{
 "cells": [
  {
   "cell_type": "code",
   "execution_count": null,
   "metadata": {},
   "outputs": [],
   "source": [
    "import reg_prompt\n",
    "import sys \n",
    "sys.path.append('..')\n",
    "\n",
    "import gen_jb_prompt\n",
    "from reg_prompt_gen import horizontal_reg, vertical_reg"
   ]
  },
  {
   "cell_type": "code",
   "execution_count": null,
   "metadata": {},
   "outputs": [],
   "source": [
    "print(reg_prompt.v_sep_prompt(\"*\"))"
   ]
  },
  {
   "cell_type": "code",
   "execution_count": null,
   "metadata": {},
   "outputs": [],
   "source": [
    "print(gen_jb_prompt.horizontal_jb().gen_prompt('[MASK1] is good',['bomb'],'4x4_offr','sep-no-no','word'))"
   ]
  },
  {
   "cell_type": "code",
   "execution_count": null,
   "metadata": {},
   "outputs": [],
   "source": [
    "reg_cli = horizontal_reg()\n",
    "# reg_cli = vertical_reg()\n",
    "prompt = reg_cli.gen_prompt(\"text\", \"4x4_offr\", \"ict-no-no\",'SSL', 4)\n",
    "print(prompt)"
   ]
  }
 ],
 "metadata": {
  "kernelspec": {
   "display_name": "art",
   "language": "python",
   "name": "python3"
  },
  "language_info": {
   "codemirror_mode": {
    "name": "ipython",
    "version": 3
   },
   "file_extension": ".py",
   "mimetype": "text/x-python",
   "name": "python",
   "nbconvert_exporter": "python",
   "pygments_lexer": "ipython3",
   "version": "3.11.11"
  }
 },
 "nbformat": 4,
 "nbformat_minor": 2
}
